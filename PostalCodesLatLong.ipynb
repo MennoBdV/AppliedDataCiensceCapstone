{
 "cells": [
  {
   "cell_type": "markdown",
   "metadata": {},
   "source": [
    "# Segmenting and Clustering Neighborhoods in Toronto\n",
    "## Attaching latitude and longitude to postal codes\n",
    "#### Postalcodes from previous assignment were saved into csv files and read for further use"
   ]
  },
  {
   "cell_type": "code",
   "execution_count": 20,
   "metadata": {},
   "outputs": [],
   "source": [
    "# read the postal codes we prepared in the previous assignment\n",
    "import pandas as pd\n",
    "df_TN_1 = pd.read_csv('PostalCodesToronto.csv')"
   ]
  },
  {
   "cell_type": "code",
   "execution_count": 21,
   "metadata": {},
   "outputs": [
    {
     "data": {
      "text/html": [
       "<div>\n",
       "<style scoped>\n",
       "    .dataframe tbody tr th:only-of-type {\n",
       "        vertical-align: middle;\n",
       "    }\n",
       "\n",
       "    .dataframe tbody tr th {\n",
       "        vertical-align: top;\n",
       "    }\n",
       "\n",
       "    .dataframe thead th {\n",
       "        text-align: right;\n",
       "    }\n",
       "</style>\n",
       "<table border=\"1\" class=\"dataframe\">\n",
       "  <thead>\n",
       "    <tr style=\"text-align: right;\">\n",
       "      <th></th>\n",
       "      <th>PostalCode</th>\n",
       "      <th>Borough</th>\n",
       "      <th>Neighborhood</th>\n",
       "    </tr>\n",
       "  </thead>\n",
       "  <tbody>\n",
       "    <tr>\n",
       "      <th>0</th>\n",
       "      <td>M3A</td>\n",
       "      <td>North York</td>\n",
       "      <td>Parkwoods</td>\n",
       "    </tr>\n",
       "    <tr>\n",
       "      <th>1</th>\n",
       "      <td>M4A</td>\n",
       "      <td>North York</td>\n",
       "      <td>Victoria Village</td>\n",
       "    </tr>\n",
       "    <tr>\n",
       "      <th>2</th>\n",
       "      <td>M5A</td>\n",
       "      <td>Downtown Toronto</td>\n",
       "      <td>Regent Park, Harbourfront</td>\n",
       "    </tr>\n",
       "    <tr>\n",
       "      <th>3</th>\n",
       "      <td>M6A</td>\n",
       "      <td>North York</td>\n",
       "      <td>Lawrence Manor, Lawrence Heights</td>\n",
       "    </tr>\n",
       "    <tr>\n",
       "      <th>4</th>\n",
       "      <td>M7A</td>\n",
       "      <td>Downtown Toronto</td>\n",
       "      <td>Queen's Park, Ontario Provincial Government</td>\n",
       "    </tr>\n",
       "  </tbody>\n",
       "</table>\n",
       "</div>"
      ],
      "text/plain": [
       "  PostalCode           Borough                                 Neighborhood\n",
       "0        M3A        North York                                    Parkwoods\n",
       "1        M4A        North York                             Victoria Village\n",
       "2        M5A  Downtown Toronto                    Regent Park, Harbourfront\n",
       "3        M6A        North York             Lawrence Manor, Lawrence Heights\n",
       "4        M7A  Downtown Toronto  Queen's Park, Ontario Provincial Government"
      ]
     },
     "execution_count": 21,
     "metadata": {},
     "output_type": "execute_result"
    }
   ],
   "source": [
    "df_TN_1.head()"
   ]
  },
  {
   "cell_type": "markdown",
   "metadata": {},
   "source": [
    "### Lets find the Latitude and Longitude for 1 postal code"
   ]
  },
  {
   "cell_type": "code",
   "execution_count": 9,
   "metadata": {},
   "outputs": [
    {
     "name": "stdout",
     "output_type": "stream",
     "text": [
      "Collecting geocoder\n",
      "\u001b[?25l  Downloading https://files.pythonhosted.org/packages/4f/6b/13166c909ad2f2d76b929a4227c952630ebaf0d729f6317eb09cbceccbab/geocoder-1.38.1-py2.py3-none-any.whl (98kB)\n",
      "\u001b[K     |████████████████████████████████| 102kB 7.7MB/s ta 0:00:011\n",
      "\u001b[?25hCollecting click (from geocoder)\n",
      "\u001b[?25l  Downloading https://files.pythonhosted.org/packages/d2/3d/fa76db83bf75c4f8d338c2fd15c8d33fdd7ad23a9b5e57eb6c5de26b430e/click-7.1.2-py2.py3-none-any.whl (82kB)\n",
      "\u001b[K     |████████████████████████████████| 92kB 13.2MB/s eta 0:00:01\n",
      "\u001b[?25hRequirement already satisfied: requests in /home/jupyterlab/conda/envs/python/lib/python3.6/site-packages (from geocoder) (2.23.0)\n",
      "Requirement already satisfied: six in /home/jupyterlab/conda/envs/python/lib/python3.6/site-packages (from geocoder) (1.14.0)\n",
      "Collecting ratelim (from geocoder)\n",
      "  Downloading https://files.pythonhosted.org/packages/f2/98/7e6d147fd16a10a5f821db6e25f192265d6ecca3d82957a4fdd592cad49c/ratelim-0.1.6-py2.py3-none-any.whl\n",
      "Collecting future (from geocoder)\n",
      "\u001b[?25l  Downloading https://files.pythonhosted.org/packages/45/0b/38b06fd9b92dc2b68d58b75f900e97884c45bedd2ff83203d933cf5851c9/future-0.18.2.tar.gz (829kB)\n",
      "\u001b[K     |████████████████████████████████| 829kB 20.5MB/s eta 0:00:01\n",
      "\u001b[?25hRequirement already satisfied: certifi>=2017.4.17 in /home/jupyterlab/conda/envs/python/lib/python3.6/site-packages (from requests->geocoder) (2020.4.5.1)\n",
      "Requirement already satisfied: chardet<4,>=3.0.2 in /home/jupyterlab/conda/envs/python/lib/python3.6/site-packages (from requests->geocoder) (3.0.4)\n",
      "Requirement already satisfied: urllib3!=1.25.0,!=1.25.1,<1.26,>=1.21.1 in /home/jupyterlab/conda/envs/python/lib/python3.6/site-packages (from requests->geocoder) (1.25.9)\n",
      "Requirement already satisfied: idna<3,>=2.5 in /home/jupyterlab/conda/envs/python/lib/python3.6/site-packages (from requests->geocoder) (2.9)\n",
      "Requirement already satisfied: decorator in /home/jupyterlab/conda/envs/python/lib/python3.6/site-packages (from ratelim->geocoder) (4.4.2)\n",
      "Building wheels for collected packages: future\n",
      "  Building wheel for future (setup.py) ... \u001b[?25ldone\n",
      "\u001b[?25h  Stored in directory: /home/jupyterlab/.cache/pip/wheels/8b/99/a0/81daf51dcd359a9377b110a8a886b3895921802d2fc1b2397e\n",
      "Successfully built future\n",
      "Installing collected packages: click, ratelim, future, geocoder\n",
      "Successfully installed click-7.1.2 future-0.18.2 geocoder-1.38.1 ratelim-0.1.6\n"
     ]
    }
   ],
   "source": [
    "# We have to install the geocoder\n",
    "!pip install geocoder"
   ]
  },
  {
   "cell_type": "code",
   "execution_count": 19,
   "metadata": {},
   "outputs": [
    {
     "name": "stdout",
     "output_type": "stream",
     "text": [
      "Not found within 2500 times\n"
     ]
    }
   ],
   "source": [
    "import geocoder # import geocoder\n",
    "# initialize your variable to None\n",
    "lat_lng_coords = None\n",
    "# lets count the times trying\n",
    "times = 1\n",
    "# loop until you get the coordinates\n",
    "while(lat_lng_coords is None):\n",
    "    times = times + 1\n",
    "    if times == 2500: break\n",
    "    g = geocoder.google('{}, Toronto, Ontario'.format('M5G'))\n",
    "    lat_lng_coords = g.latlng\n",
    "\n",
    "if lat_lng_coords is None:\n",
    "    print('Not found within 2500 times')\n",
    "else:\n",
    "    latitude = lat_lng_coords[0]\n",
    "    longitude = lat_lng_coords[1]\n",
    "    print('latitude = ', latitude, ' found in ', times , ' times trying' )"
   ]
  },
  {
   "cell_type": "markdown",
   "metadata": {},
   "source": [
    "#### investigated further, and found more students with problems, so I assumed the geocoder doesn't work (anymore)\n",
    "#### Quote from  Thomas Buccelli:\n",
    "\"No returns on any coords for using geocoder\n",
    " Thomas Buccelli Technical Lab Issues · 4 days ago\n",
    "I am not sure if geocoder is \"down\", but even using the sample code provided, my queries run indefinitely. \n",
    "I am running on Watson Studio and break these after 100 or so attempts as indicated by the attempt print message. Code is as below."
   ]
  },
  {
   "cell_type": "markdown",
   "metadata": {},
   "source": [
    "# Lets try another geocode module\n",
    "### pgeocode\n"
   ]
  },
  {
   "cell_type": "markdown",
   "metadata": {},
   "source": [
    "Postal code geocoding and distance calculations\n",
    "\n",
    "pgeocode is a Python library for high performance off-line querying of GPS coordinates, region name and municipality name from postal codes. Distances between postal codes as well as general distance queries are also supported. The used GeoNames database includes postal codes for 83 countries."
   ]
  },
  {
   "cell_type": "code",
   "execution_count": 22,
   "metadata": {},
   "outputs": [
    {
     "name": "stdout",
     "output_type": "stream",
     "text": [
      "Requirement already satisfied: pgeocode in /home/jupyterlab/conda/envs/python/lib/python3.6/site-packages (0.2.1)\n",
      "Requirement already satisfied: requests in /home/jupyterlab/conda/envs/python/lib/python3.6/site-packages (from pgeocode) (2.23.0)\n",
      "Requirement already satisfied: pandas in /home/jupyterlab/conda/envs/python/lib/python3.6/site-packages (from pgeocode) (1.0.3)\n",
      "Requirement already satisfied: numpy in /home/jupyterlab/conda/envs/python/lib/python3.6/site-packages (from pgeocode) (1.18.1)\n",
      "Requirement already satisfied: certifi>=2017.4.17 in /home/jupyterlab/conda/envs/python/lib/python3.6/site-packages (from requests->pgeocode) (2020.4.5.1)\n",
      "Requirement already satisfied: chardet<4,>=3.0.2 in /home/jupyterlab/conda/envs/python/lib/python3.6/site-packages (from requests->pgeocode) (3.0.4)\n",
      "Requirement already satisfied: urllib3!=1.25.0,!=1.25.1,<1.26,>=1.21.1 in /home/jupyterlab/conda/envs/python/lib/python3.6/site-packages (from requests->pgeocode) (1.25.9)\n",
      "Requirement already satisfied: idna<3,>=2.5 in /home/jupyterlab/conda/envs/python/lib/python3.6/site-packages (from requests->pgeocode) (2.9)\n",
      "Requirement already satisfied: pytz>=2017.2 in /home/jupyterlab/conda/envs/python/lib/python3.6/site-packages (from pandas->pgeocode) (2020.1)\n",
      "Requirement already satisfied: python-dateutil>=2.6.1 in /home/jupyterlab/conda/envs/python/lib/python3.6/site-packages (from pandas->pgeocode) (2.8.1)\n",
      "Requirement already satisfied: six>=1.5 in /home/jupyterlab/conda/envs/python/lib/python3.6/site-packages (from python-dateutil>=2.6.1->pandas->pgeocode) (1.14.0)\n"
     ]
    }
   ],
   "source": [
    "!pip install pgeocode"
   ]
  },
  {
   "cell_type": "markdown",
   "metadata": {},
   "source": [
    "#### Lets define 2 DataFrames for Latitude and Longitude\n",
    "##### with the same length as the postal codes DataFrame"
   ]
  },
  {
   "cell_type": "code",
   "execution_count": 24,
   "metadata": {},
   "outputs": [
    {
     "data": {
      "text/plain": [
       "(103, 3)"
      ]
     },
     "execution_count": 24,
     "metadata": {},
     "output_type": "execute_result"
    }
   ],
   "source": [
    "lat = pd.DataFrame({'Latitude': range(103)})\n",
    "long = pd.DataFrame({'Longitude': range(103)})\n",
    "df_TN_1.shape"
   ]
  },
  {
   "cell_type": "code",
   "execution_count": 25,
   "metadata": {},
   "outputs": [
    {
     "data": {
      "text/html": [
       "<div>\n",
       "<style scoped>\n",
       "    .dataframe tbody tr th:only-of-type {\n",
       "        vertical-align: middle;\n",
       "    }\n",
       "\n",
       "    .dataframe tbody tr th {\n",
       "        vertical-align: top;\n",
       "    }\n",
       "\n",
       "    .dataframe thead th {\n",
       "        text-align: right;\n",
       "    }\n",
       "</style>\n",
       "<table border=\"1\" class=\"dataframe\">\n",
       "  <thead>\n",
       "    <tr style=\"text-align: right;\">\n",
       "      <th></th>\n",
       "      <th>PostalCode</th>\n",
       "      <th>Borough</th>\n",
       "      <th>Neighborhood</th>\n",
       "      <th>Latitude</th>\n",
       "      <th>Longitude</th>\n",
       "    </tr>\n",
       "  </thead>\n",
       "  <tbody>\n",
       "    <tr>\n",
       "      <th>0</th>\n",
       "      <td>M3A</td>\n",
       "      <td>North York</td>\n",
       "      <td>Parkwoods</td>\n",
       "      <td>43.7545</td>\n",
       "      <td>-79.3300</td>\n",
       "    </tr>\n",
       "    <tr>\n",
       "      <th>1</th>\n",
       "      <td>M4A</td>\n",
       "      <td>North York</td>\n",
       "      <td>Victoria Village</td>\n",
       "      <td>43.7276</td>\n",
       "      <td>-79.3148</td>\n",
       "    </tr>\n",
       "    <tr>\n",
       "      <th>2</th>\n",
       "      <td>M5A</td>\n",
       "      <td>Downtown Toronto</td>\n",
       "      <td>Regent Park, Harbourfront</td>\n",
       "      <td>43.6555</td>\n",
       "      <td>-79.3626</td>\n",
       "    </tr>\n",
       "    <tr>\n",
       "      <th>3</th>\n",
       "      <td>M6A</td>\n",
       "      <td>North York</td>\n",
       "      <td>Lawrence Manor, Lawrence Heights</td>\n",
       "      <td>43.7223</td>\n",
       "      <td>-79.4504</td>\n",
       "    </tr>\n",
       "    <tr>\n",
       "      <th>4</th>\n",
       "      <td>M7A</td>\n",
       "      <td>Downtown Toronto</td>\n",
       "      <td>Queen's Park, Ontario Provincial Government</td>\n",
       "      <td>43.6641</td>\n",
       "      <td>-79.3889</td>\n",
       "    </tr>\n",
       "  </tbody>\n",
       "</table>\n",
       "</div>"
      ],
      "text/plain": [
       "  PostalCode           Borough                                 Neighborhood  \\\n",
       "0        M3A        North York                                    Parkwoods   \n",
       "1        M4A        North York                             Victoria Village   \n",
       "2        M5A  Downtown Toronto                    Regent Park, Harbourfront   \n",
       "3        M6A        North York             Lawrence Manor, Lawrence Heights   \n",
       "4        M7A  Downtown Toronto  Queen's Park, Ontario Provincial Government   \n",
       "\n",
       "   Latitude  Longitude  \n",
       "0   43.7545   -79.3300  \n",
       "1   43.7276   -79.3148  \n",
       "2   43.6555   -79.3626  \n",
       "3   43.7223   -79.4504  \n",
       "4   43.6641   -79.3889  "
      ]
     },
     "execution_count": 25,
     "metadata": {},
     "output_type": "execute_result"
    }
   ],
   "source": [
    "import pgeocode\n",
    "nomi = pgeocode.Nominatim('ca')\n",
    "\n",
    "i=0\n",
    "while i < 103:\n",
    "    PCQ = nomi.query_postal_code(df_TN_1.iloc[i,0]) \n",
    "    lat.iloc[i] = PCQ.latitude\n",
    "    long.iloc[i] = PCQ.longitude\n",
    "    i=i+1\n",
    "\n",
    "df_TN_ll = pd.concat([df_TN_1,lat,long],axis=1)\n",
    "df_TN_ll.head()"
   ]
  },
  {
   "cell_type": "markdown",
   "metadata": {},
   "source": [
    "#### While this wordked, the results are quite a bit different from the provided csv file\n",
    "#### So I opted to use that as well.\n",
    "##### First get the data and store it in a dataframe with a good index"
   ]
  },
  {
   "cell_type": "code",
   "execution_count": 26,
   "metadata": {},
   "outputs": [
    {
     "name": "stdout",
     "output_type": "stream",
     "text": [
      "--2020-04-30 12:57:32--  https://cocl.us/Geospatial_data/Geospatial_Coordinates.csv\n",
      "Resolving cocl.us (cocl.us)... 158.85.108.83, 158.85.108.86, 169.48.113.194\n",
      "Connecting to cocl.us (cocl.us)|158.85.108.83|:443... connected.\n",
      "HTTP request sent, awaiting response... 301 Moved Permanently\n",
      "Location: https://ibm.box.com/shared/static/9afzr83pps4pwf2smjjcf1y5mvgb18rr.csv [following]\n",
      "--2020-04-30 12:57:34--  https://ibm.box.com/shared/static/9afzr83pps4pwf2smjjcf1y5mvgb18rr.csv\n",
      "Resolving ibm.box.com (ibm.box.com)... 107.152.27.197\n",
      "Connecting to ibm.box.com (ibm.box.com)|107.152.27.197|:443... connected.\n",
      "HTTP request sent, awaiting response... 301 Moved Permanently\n",
      "Location: /public/static/9afzr83pps4pwf2smjjcf1y5mvgb18rr.csv [following]\n",
      "--2020-04-30 12:57:35--  https://ibm.box.com/public/static/9afzr83pps4pwf2smjjcf1y5mvgb18rr.csv\n",
      "Reusing existing connection to ibm.box.com:443.\n",
      "HTTP request sent, awaiting response... 301 Moved Permanently\n",
      "Location: https://ibm.ent.box.com/public/static/9afzr83pps4pwf2smjjcf1y5mvgb18rr.csv [following]\n",
      "--2020-04-30 12:57:35--  https://ibm.ent.box.com/public/static/9afzr83pps4pwf2smjjcf1y5mvgb18rr.csv\n",
      "Resolving ibm.ent.box.com (ibm.ent.box.com)... 107.152.26.211\n",
      "Connecting to ibm.ent.box.com (ibm.ent.box.com)|107.152.26.211|:443... connected.\n",
      "HTTP request sent, awaiting response... 302 Found\n",
      "Location: https://public.boxcloud.com/d/1/b1!sVD6aUvAM7fQ6uZFRE1rE81oYpZv4Ydb65igKh37pISvOhlAZIVVgUtsYO_advb3mZ8mfWQy_eblbqVT_ln5s4q6wht9EAAicnfaXJ28kzVgFpVsuJZgU-c71wx93rj4PoCGh8MjW_3_RjSU5szDqrD2h3pEwMTvQhNocHksdhWo6mhX5evTnoJd3eJmpLMHuJQTGCtQ8u0lWH9pgzRYH5k7kN6jaEhELjRD4KWp2sQO6D5qDTLIQqrcSAHBnNdZgIBvXjuZF0f4QYK5EQKE4dCLsUrgCNQibT-aa-9FqtP3Ccc20nSBQD0gFYlH_YUiircCc-A1CfZyJnMQtkn6K6tGp92AR7zxNOu_6okX5TXstka7Cmf5sxgLf64PGT_mg1rTIsv7Ng--7jL7ZjCNPUcUU7HvP72Y_0U1EbdDXQjmoTyD7Z1WMni_SWE4qqLQ0MUvG85zYOQmkEIxQle2mapvSZTj78paIBw4JelWjtzsXzY-ksib_Chbtp-CVL6aYyh3c7Vd_r2UVhCZG2UTg-3sFH1pyfJQvKVQKrx4sxse9H2DXXCb4XtmufqqePh9XTB0b6soN1BEvYV7Tg8N8K-IIPSriSFl5sLH3UXZj1d1Utzs7P2cuu0rSk4pHAn2kYR78sx4PnA_-pF6dVdj3J4Y-ThW_ppJPFvNsyEo17I6UKxShhrMz21w2h_Jco_F1iyUCXb-AtovsVNSo5Pm-swZ_btirSyAZdSfZ0NKKh2HB8HcdSMk65BngO2pR0KIUzglpiosLNAZsniwM17awMtp9NA5YmMz6IvtwHTWnQ8vsA81ayH9bWqL4Wjdkko5BSpqS5qw3yizz2vqa_Zb30vl8DKF3AkuHwPcUQrLg5AkGmv64w2EsH6dCJb_DtUB1z5RgLbx45peIOfTGinZWl3duV7cIZT7cNbN9KSyA_KmqMTphSxcHE--QQdD_JC6N-EOL-qWANnVjXCbLG8YWc_JbQY_0bHH1-mNSYA7YH3XCRGsd2vr1xKegP27NFPNnKr_q8hKN4OKnM1oGEbYbyrj5zCdwjzyx5FRmGt2Z2unsyFV_KHBOInAYTYsaLjSG-jG0gu3Q6QOCcc6ZbS9PAB2HJvfdMRNURLCucfADXbaJw_6WvJH18MOLQMWu_JbQzaEQUtriRcRYfL4XMfnFtbe-Ec1Ry7D2tlbYr22vuCb_gew47CGfPv9pkj2KE4WfVsiWC0JP2E-j2NSDnNkxgF4cOpTT8lCg7EpOvkQnByJ6XKsbIIdppvqgsQaXmrn2-lVN1F5cW2y7zKjVFGgoWZpT1bN45N4sG_jNapaQImXHgpCBpSXohqfu4ot7H5QV8fv7eHbzEpGum6CrvQOCsmdkMMEHGcMkQl-llk6S-Mq4gb-JSi6TFxTy3JQNZX2vRB8VwpPrUygff1i6KQY1YBmgH282TJae7zY9Lj3cgFH/download [following]\n",
      "--2020-04-30 12:57:35--  https://public.boxcloud.com/d/1/b1!sVD6aUvAM7fQ6uZFRE1rE81oYpZv4Ydb65igKh37pISvOhlAZIVVgUtsYO_advb3mZ8mfWQy_eblbqVT_ln5s4q6wht9EAAicnfaXJ28kzVgFpVsuJZgU-c71wx93rj4PoCGh8MjW_3_RjSU5szDqrD2h3pEwMTvQhNocHksdhWo6mhX5evTnoJd3eJmpLMHuJQTGCtQ8u0lWH9pgzRYH5k7kN6jaEhELjRD4KWp2sQO6D5qDTLIQqrcSAHBnNdZgIBvXjuZF0f4QYK5EQKE4dCLsUrgCNQibT-aa-9FqtP3Ccc20nSBQD0gFYlH_YUiircCc-A1CfZyJnMQtkn6K6tGp92AR7zxNOu_6okX5TXstka7Cmf5sxgLf64PGT_mg1rTIsv7Ng--7jL7ZjCNPUcUU7HvP72Y_0U1EbdDXQjmoTyD7Z1WMni_SWE4qqLQ0MUvG85zYOQmkEIxQle2mapvSZTj78paIBw4JelWjtzsXzY-ksib_Chbtp-CVL6aYyh3c7Vd_r2UVhCZG2UTg-3sFH1pyfJQvKVQKrx4sxse9H2DXXCb4XtmufqqePh9XTB0b6soN1BEvYV7Tg8N8K-IIPSriSFl5sLH3UXZj1d1Utzs7P2cuu0rSk4pHAn2kYR78sx4PnA_-pF6dVdj3J4Y-ThW_ppJPFvNsyEo17I6UKxShhrMz21w2h_Jco_F1iyUCXb-AtovsVNSo5Pm-swZ_btirSyAZdSfZ0NKKh2HB8HcdSMk65BngO2pR0KIUzglpiosLNAZsniwM17awMtp9NA5YmMz6IvtwHTWnQ8vsA81ayH9bWqL4Wjdkko5BSpqS5qw3yizz2vqa_Zb30vl8DKF3AkuHwPcUQrLg5AkGmv64w2EsH6dCJb_DtUB1z5RgLbx45peIOfTGinZWl3duV7cIZT7cNbN9KSyA_KmqMTphSxcHE--QQdD_JC6N-EOL-qWANnVjXCbLG8YWc_JbQY_0bHH1-mNSYA7YH3XCRGsd2vr1xKegP27NFPNnKr_q8hKN4OKnM1oGEbYbyrj5zCdwjzyx5FRmGt2Z2unsyFV_KHBOInAYTYsaLjSG-jG0gu3Q6QOCcc6ZbS9PAB2HJvfdMRNURLCucfADXbaJw_6WvJH18MOLQMWu_JbQzaEQUtriRcRYfL4XMfnFtbe-Ec1Ry7D2tlbYr22vuCb_gew47CGfPv9pkj2KE4WfVsiWC0JP2E-j2NSDnNkxgF4cOpTT8lCg7EpOvkQnByJ6XKsbIIdppvqgsQaXmrn2-lVN1F5cW2y7zKjVFGgoWZpT1bN45N4sG_jNapaQImXHgpCBpSXohqfu4ot7H5QV8fv7eHbzEpGum6CrvQOCsmdkMMEHGcMkQl-llk6S-Mq4gb-JSi6TFxTy3JQNZX2vRB8VwpPrUygff1i6KQY1YBmgH282TJae7zY9Lj3cgFH/download\n",
      "Resolving public.boxcloud.com (public.boxcloud.com)... 107.152.27.200\n",
      "Connecting to public.boxcloud.com (public.boxcloud.com)|107.152.27.200|:443... connected.\n",
      "HTTP request sent, awaiting response... 200 OK\n",
      "Length: 2891 (2.8K) [text/csv]\n",
      "Saving to: ‘Geospatial_Coordinates.csv’\n",
      "\n",
      "Geospatial_Coordina 100%[===================>]   2.82K  --.-KB/s    in 0.003s  \n",
      "\n",
      "2020-04-30 12:57:35 (1011 KB/s) - ‘Geospatial_Coordinates.csv’ saved [2891/2891]\n",
      "\n"
     ]
    },
    {
     "data": {
      "text/html": [
       "<div>\n",
       "<style scoped>\n",
       "    .dataframe tbody tr th:only-of-type {\n",
       "        vertical-align: middle;\n",
       "    }\n",
       "\n",
       "    .dataframe tbody tr th {\n",
       "        vertical-align: top;\n",
       "    }\n",
       "\n",
       "    .dataframe thead th {\n",
       "        text-align: right;\n",
       "    }\n",
       "</style>\n",
       "<table border=\"1\" class=\"dataframe\">\n",
       "  <thead>\n",
       "    <tr style=\"text-align: right;\">\n",
       "      <th></th>\n",
       "      <th>Latitude</th>\n",
       "      <th>Longitude</th>\n",
       "    </tr>\n",
       "    <tr>\n",
       "      <th>Postal Code</th>\n",
       "      <th></th>\n",
       "      <th></th>\n",
       "    </tr>\n",
       "  </thead>\n",
       "  <tbody>\n",
       "    <tr>\n",
       "      <th>M1B</th>\n",
       "      <td>43.806686</td>\n",
       "      <td>-79.194353</td>\n",
       "    </tr>\n",
       "    <tr>\n",
       "      <th>M1C</th>\n",
       "      <td>43.784535</td>\n",
       "      <td>-79.160497</td>\n",
       "    </tr>\n",
       "    <tr>\n",
       "      <th>M1E</th>\n",
       "      <td>43.763573</td>\n",
       "      <td>-79.188711</td>\n",
       "    </tr>\n",
       "    <tr>\n",
       "      <th>M1G</th>\n",
       "      <td>43.770992</td>\n",
       "      <td>-79.216917</td>\n",
       "    </tr>\n",
       "    <tr>\n",
       "      <th>M1H</th>\n",
       "      <td>43.773136</td>\n",
       "      <td>-79.239476</td>\n",
       "    </tr>\n",
       "  </tbody>\n",
       "</table>\n",
       "</div>"
      ],
      "text/plain": [
       "              Latitude  Longitude\n",
       "Postal Code                      \n",
       "M1B          43.806686 -79.194353\n",
       "M1C          43.784535 -79.160497\n",
       "M1E          43.763573 -79.188711\n",
       "M1G          43.770992 -79.216917\n",
       "M1H          43.773136 -79.239476"
      ]
     },
     "execution_count": 26,
     "metadata": {},
     "output_type": "execute_result"
    }
   ],
   "source": [
    "!wget -O Geospatial_Coordinates.csv https://cocl.us/Geospatial_data/Geospatial_Coordinates.csv\n",
    "df_geo = pd.read_csv(\"Geospatial_Coordinates.csv\")\n",
    "df_geo_i = df_geo.set_index('Postal Code')\n",
    "df_geo_i.head()"
   ]
  },
  {
   "cell_type": "markdown",
   "metadata": {},
   "source": [
    "##### Now replace the Latitude and Longitude from this dataframe (df_geo_i) to the original dataframe (df_TN_ll)\n"
   ]
  },
  {
   "cell_type": "code",
   "execution_count": 27,
   "metadata": {},
   "outputs": [
    {
     "data": {
      "text/html": [
       "<div>\n",
       "<style scoped>\n",
       "    .dataframe tbody tr th:only-of-type {\n",
       "        vertical-align: middle;\n",
       "    }\n",
       "\n",
       "    .dataframe tbody tr th {\n",
       "        vertical-align: top;\n",
       "    }\n",
       "\n",
       "    .dataframe thead th {\n",
       "        text-align: right;\n",
       "    }\n",
       "</style>\n",
       "<table border=\"1\" class=\"dataframe\">\n",
       "  <thead>\n",
       "    <tr style=\"text-align: right;\">\n",
       "      <th></th>\n",
       "      <th>PostalCode</th>\n",
       "      <th>Borough</th>\n",
       "      <th>Neighborhood</th>\n",
       "      <th>Latitude</th>\n",
       "      <th>Longitude</th>\n",
       "    </tr>\n",
       "  </thead>\n",
       "  <tbody>\n",
       "    <tr>\n",
       "      <th>0</th>\n",
       "      <td>M3A</td>\n",
       "      <td>North York</td>\n",
       "      <td>Parkwoods</td>\n",
       "      <td>43.753259</td>\n",
       "      <td>-79.329656</td>\n",
       "    </tr>\n",
       "    <tr>\n",
       "      <th>1</th>\n",
       "      <td>M4A</td>\n",
       "      <td>North York</td>\n",
       "      <td>Victoria Village</td>\n",
       "      <td>43.725882</td>\n",
       "      <td>-79.315572</td>\n",
       "    </tr>\n",
       "    <tr>\n",
       "      <th>2</th>\n",
       "      <td>M5A</td>\n",
       "      <td>Downtown Toronto</td>\n",
       "      <td>Regent Park, Harbourfront</td>\n",
       "      <td>43.654260</td>\n",
       "      <td>-79.360636</td>\n",
       "    </tr>\n",
       "    <tr>\n",
       "      <th>3</th>\n",
       "      <td>M6A</td>\n",
       "      <td>North York</td>\n",
       "      <td>Lawrence Manor, Lawrence Heights</td>\n",
       "      <td>43.718518</td>\n",
       "      <td>-79.464763</td>\n",
       "    </tr>\n",
       "    <tr>\n",
       "      <th>4</th>\n",
       "      <td>M7A</td>\n",
       "      <td>Downtown Toronto</td>\n",
       "      <td>Queen's Park, Ontario Provincial Government</td>\n",
       "      <td>43.662301</td>\n",
       "      <td>-79.389494</td>\n",
       "    </tr>\n",
       "  </tbody>\n",
       "</table>\n",
       "</div>"
      ],
      "text/plain": [
       "  PostalCode           Borough                                 Neighborhood  \\\n",
       "0        M3A        North York                                    Parkwoods   \n",
       "1        M4A        North York                             Victoria Village   \n",
       "2        M5A  Downtown Toronto                    Regent Park, Harbourfront   \n",
       "3        M6A        North York             Lawrence Manor, Lawrence Heights   \n",
       "4        M7A  Downtown Toronto  Queen's Park, Ontario Provincial Government   \n",
       "\n",
       "    Latitude   Longitude  \n",
       "0  43.753259  -79.329656  \n",
       "1  43.725882  -79.315572  \n",
       "2  43.654260  -79.360636  \n",
       "3  43.718518  -79.464763  \n",
       "4  43.662301  -79.389494  "
      ]
     },
     "execution_count": 27,
     "metadata": {},
     "output_type": "execute_result"
    }
   ],
   "source": [
    "i=0\n",
    "while i < 103:\n",
    "    PC = df_TN_ll.iloc[i,0]\n",
    "    df_TN_ll.iloc[i,3] = '{:2.6f}'.format(df_geo_i.loc[PC, 'Latitude'])\n",
    "    df_TN_ll.iloc[i,4] = '{:2.6f}'.format(df_geo_i.loc[PC, 'Longitude'])\n",
    "    i=i+1\n",
    "\n",
    "df_TN_ll.head()"
   ]
  }
 ],
 "metadata": {
  "kernelspec": {
   "display_name": "Python",
   "language": "python",
   "name": "conda-env-python-py"
  },
  "language_info": {
   "codemirror_mode": {
    "name": "ipython",
    "version": 3
   },
   "file_extension": ".py",
   "mimetype": "text/x-python",
   "name": "python",
   "nbconvert_exporter": "python",
   "pygments_lexer": "ipython3",
   "version": "3.6.10"
  }
 },
 "nbformat": 4,
 "nbformat_minor": 4
}
